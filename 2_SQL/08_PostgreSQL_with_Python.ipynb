{
 "cells": [
  {
   "cell_type": "markdown",
   "metadata": {},
   "source": [
    "# Using PostgreSQL in Python (with Psycopg2)"
   ]
  },
  {
   "cell_type": "markdown",
   "metadata": {},
   "source": [
    "## Psycopg2\n",
    "\n",
    "A Python library that facilitates the connection to an existing PostgreSQL database, enabling the utilization of SQL functionalities within Python.\n",
    "\n",
    "**Documentation Link:** https://wiki.postgresql.org/wiki/Psycopg2_Tutorial"
   ]
  },
  {
   "cell_type": "code",
   "execution_count": 1,
   "metadata": {},
   "outputs": [],
   "source": [
    "# ! pip install psycopg2"
   ]
  },
  {
   "cell_type": "code",
   "execution_count": 2,
   "metadata": {},
   "outputs": [],
   "source": [
    "# After installing with pip install psycopg2\n",
    "import psycopg2 as pg2"
   ]
  },
  {
   "cell_type": "code",
   "execution_count": 3,
   "metadata": {},
   "outputs": [],
   "source": [
    "# Create a connection with PostgreSQL\n",
    "# 'password' is whatever password you set, we set password in the install video\n",
    "conn = pg2.connect(database='postgres', user='postgres',password='1234')"
   ]
  },
  {
   "cell_type": "code",
   "execution_count": 4,
   "metadata": {},
   "outputs": [],
   "source": [
    "# Establish connection and start cursor to be ready to query\n",
    "cur = conn.cursor()"
   ]
  },
  {
   "cell_type": "code",
   "execution_count": 5,
   "metadata": {},
   "outputs": [],
   "source": [
    "# Drop table, if it is exists\n",
    "query1 = '''\n",
    "        DROP TABLE IF EXISTS person;\n",
    "        '''\n",
    "\n",
    "# Inserting information\n",
    "query2 = '''\n",
    "        CREATE TABLE person (\n",
    "            userid SERIAL, \n",
    "            fname VARCHAR(20), \n",
    "            lname VARCHAR(20)\n",
    "        );\n",
    "        '''\n",
    "\n",
    "# Inserting values\n",
    "query3 = '''\n",
    "        INSERT INTO person(fname, lname) VALUES\n",
    "                        ('John', 'Doe'),\n",
    "                        ('Jane', 'Smith'),\n",
    "                        ('Alice', 'Johnson'),\n",
    "                        ('Bob', 'Williams'),\n",
    "                        ('Eve', 'Brown');\n",
    "        '''\n"
   ]
  },
  {
   "cell_type": "code",
   "execution_count": 6,
   "metadata": {},
   "outputs": [
    {
     "name": "stdout",
     "output_type": "stream",
     "text": [
      "Table created successfully.\n"
     ]
    }
   ],
   "source": [
    "try:\n",
    "    cur.execute(query1)\n",
    "    cur.execute(query2)\n",
    "    conn.commit()\n",
    "    print(\"Table created successfully.\")\n",
    "except Exception as e:\n",
    "    conn.rollback()\n",
    "    print(\"Error:\", e)"
   ]
  },
  {
   "cell_type": "code",
   "execution_count": 7,
   "metadata": {},
   "outputs": [],
   "source": [
    "cur.execute(query3)"
   ]
  },
  {
   "cell_type": "code",
   "execution_count": 8,
   "metadata": {},
   "outputs": [],
   "source": [
    "# commit the changes to the database\n",
    "conn.commit()"
   ]
  },
  {
   "cell_type": "code",
   "execution_count": 9,
   "metadata": {},
   "outputs": [],
   "source": [
    "# Pass in a PostgreSQL query as a string\n",
    "cur.execute(\"SELECT * FROM person\")"
   ]
  },
  {
   "cell_type": "code",
   "execution_count": 10,
   "metadata": {},
   "outputs": [
    {
     "data": {
      "text/plain": [
       "(1, 'John', 'Doe')"
      ]
     },
     "execution_count": 10,
     "metadata": {},
     "output_type": "execute_result"
    }
   ],
   "source": [
    "# Return a tuple of the first row as Python objects\n",
    "cur.fetchone()"
   ]
  },
  {
   "cell_type": "code",
   "execution_count": 11,
   "metadata": {},
   "outputs": [
    {
     "data": {
      "text/plain": [
       "[(2, 'Jane', 'Smith'), (3, 'Alice', 'Johnson'), (4, 'Bob', 'Williams')]"
      ]
     },
     "execution_count": 11,
     "metadata": {},
     "output_type": "execute_result"
    }
   ],
   "source": [
    "# Return N number of rows\n",
    "cur.fetchmany(3)"
   ]
  },
  {
   "cell_type": "code",
   "execution_count": 12,
   "metadata": {},
   "outputs": [
    {
     "data": {
      "text/plain": [
       "[(5, 'Eve', 'Brown')]"
      ]
     },
     "execution_count": 12,
     "metadata": {},
     "output_type": "execute_result"
    }
   ],
   "source": [
    "# Return all rows at once\n",
    "cur.fetchall()"
   ]
  },
  {
   "cell_type": "code",
   "execution_count": 13,
   "metadata": {},
   "outputs": [],
   "source": [
    "# Don't forget to close the connection!\n",
    "# killing the kernel or shutting down juptyer will also close it\n",
    "conn.close()"
   ]
  }
 ],
 "metadata": {
  "kernelspec": {
   "display_name": "base",
   "language": "python",
   "name": "python3"
  },
  "language_info": {
   "codemirror_mode": {
    "name": "ipython",
    "version": 3
   },
   "file_extension": ".py",
   "mimetype": "text/x-python",
   "name": "python",
   "nbconvert_exporter": "python",
   "pygments_lexer": "ipython3",
   "version": "3.10.9"
  }
 },
 "nbformat": 4,
 "nbformat_minor": 2
}
